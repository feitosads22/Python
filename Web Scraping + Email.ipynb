{
 "cells": [
  {
   "cell_type": "code",
   "execution_count": 23,
   "id": "f11a3aaa",
   "metadata": {},
   "outputs": [],
   "source": [
    "# Libs necessairas\n",
    "import pandas as pd\n",
    "import numpy as np\n",
    "\n",
    "# Analises gráficas\n",
    "import plotly.graph_objects as go\n",
    "from plotly.subplots import make_subplots\n",
    "\n",
    "# lib para http\n",
    "import requests\n",
    "\n",
    "# Lib para minerar os dados da pagina\n",
    "from bs4 import BeautifulSoup\n",
    "\n",
    "# Lib para daras\n",
    "from datetime import datetime\n",
    "\n",
    "# Avisos\n",
    "import warnings\n",
    "warnings.filterwarnings('ignore')"
   ]
  },
  {
   "cell_type": "code",
   "execution_count": 2,
   "id": "ad93360c",
   "metadata": {},
   "outputs": [
    {
     "name": "stdout",
     "output_type": "stream",
     "text": [
      "https://pt.wikipedia.org/wiki/Lista_de_pa%C3%ADses_por_PIB_nominal\n"
     ]
    }
   ],
   "source": [
    "# Site dos dados\n",
    "Url = 'https://pt.wikipedia.org/wiki/Lista_de_pa%C3%ADses_por_PIB_nominal'\n",
    "\n",
    "print( Url )"
   ]
  },
  {
   "cell_type": "code",
   "execution_count": 3,
   "id": "37d83d77",
   "metadata": {},
   "outputs": [
    {
     "data": {
      "text/plain": [
       "11"
      ]
     },
     "execution_count": 3,
     "metadata": {},
     "output_type": "execute_result"
    }
   ],
   "source": [
    "# Scraping dos dados\n",
    "Tabelas_Webs = pd.read_html(Url)\n",
    "\n",
    "len(Tabelas_Webs)"
   ]
  },
  {
   "cell_type": "code",
   "execution_count": 4,
   "id": "fca8bd63",
   "metadata": {},
   "outputs": [
    {
     "data": {
      "text/plain": [
       "(196, 3)"
      ]
     },
     "execution_count": 4,
     "metadata": {},
     "output_type": "execute_result"
    }
   ],
   "source": [
    "# Tabela\n",
    "Tabela_PIB = Tabelas_Webs[3]\n",
    "\n",
    "# Dimensão\n",
    "Tabela_PIB.shape"
   ]
  },
  {
   "cell_type": "code",
   "execution_count": 5,
   "id": "2fdcc6eb",
   "metadata": {},
   "outputs": [
    {
     "data": {
      "text/plain": [
       "Posição                  5\n",
       "País                     0\n",
       "PIB (Trilhões de US$)    1\n",
       "dtype: int64"
      ]
     },
     "execution_count": 5,
     "metadata": {},
     "output_type": "execute_result"
    }
   ],
   "source": [
    "# Verificando Campos Nulos\n",
    "Tabela_PIB.isnull().sum()"
   ]
  },
  {
   "cell_type": "code",
   "execution_count": 7,
   "id": "a6bf8666",
   "metadata": {},
   "outputs": [
    {
     "data": {
      "text/plain": [
       "Posição                   object\n",
       "País                      object\n",
       "PIB (Trilhões de US$)    float64\n",
       "dtype: object"
      ]
     },
     "execution_count": 7,
     "metadata": {},
     "output_type": "execute_result"
    }
   ],
   "source": [
    "# Verificando colunas\n",
    "Tabela_PIB.dtypes"
   ]
  },
  {
   "cell_type": "code",
   "execution_count": 8,
   "id": "2e5146e7",
   "metadata": {},
   "outputs": [
    {
     "data": {
      "text/html": [
       "<div>\n",
       "<style scoped>\n",
       "    .dataframe tbody tr th:only-of-type {\n",
       "        vertical-align: middle;\n",
       "    }\n",
       "\n",
       "    .dataframe tbody tr th {\n",
       "        vertical-align: top;\n",
       "    }\n",
       "\n",
       "    .dataframe thead th {\n",
       "        text-align: right;\n",
       "    }\n",
       "</style>\n",
       "<table border=\"1\" class=\"dataframe\">\n",
       "  <thead>\n",
       "    <tr style=\"text-align: right;\">\n",
       "      <th></th>\n",
       "      <th>Posição</th>\n",
       "      <th>País</th>\n",
       "      <th>PIB (Trilhões de US$)</th>\n",
       "    </tr>\n",
       "  </thead>\n",
       "  <tbody>\n",
       "    <tr>\n",
       "      <th>0</th>\n",
       "      <td>NaN</td>\n",
       "      <td>Mundo[22]</td>\n",
       "      <td>84929.508</td>\n",
       "    </tr>\n",
       "    <tr>\n",
       "      <th>2</th>\n",
       "      <td>NaN</td>\n",
       "      <td>União Europeia</td>\n",
       "      <td>18736.855</td>\n",
       "    </tr>\n",
       "    <tr>\n",
       "      <th>37</th>\n",
       "      <td>NaN</td>\n",
       "      <td>Hong Kong</td>\n",
       "      <td>362721.000</td>\n",
       "    </tr>\n",
       "    <tr>\n",
       "      <th>65</th>\n",
       "      <td>NaN</td>\n",
       "      <td>Porto Rico</td>\n",
       "      <td>101131.000</td>\n",
       "    </tr>\n",
       "    <tr>\n",
       "      <th>84</th>\n",
       "      <td>NaN</td>\n",
       "      <td>Macau</td>\n",
       "      <td>54545.000</td>\n",
       "    </tr>\n",
       "  </tbody>\n",
       "</table>\n",
       "</div>"
      ],
      "text/plain": [
       "   Posição            País  PIB (Trilhões de US$)\n",
       "0      NaN       Mundo[22]              84929.508\n",
       "2      NaN  União Europeia              18736.855\n",
       "37     NaN       Hong Kong             362721.000\n",
       "65     NaN      Porto Rico             101131.000\n",
       "84     NaN           Macau              54545.000"
      ]
     },
     "execution_count": 8,
     "metadata": {},
     "output_type": "execute_result"
    }
   ],
   "source": [
    "# Verificar nulos\n",
    "Tabela_PIB.loc[ Tabela_PIB['Posição'].isnull() ]"
   ]
  },
  {
   "cell_type": "code",
   "execution_count": 13,
   "id": "915208e5",
   "metadata": {},
   "outputs": [
    {
     "data": {
      "text/html": [
       "<div>\n",
       "<style scoped>\n",
       "    .dataframe tbody tr th:only-of-type {\n",
       "        vertical-align: middle;\n",
       "    }\n",
       "\n",
       "    .dataframe tbody tr th {\n",
       "        vertical-align: top;\n",
       "    }\n",
       "\n",
       "    .dataframe thead th {\n",
       "        text-align: right;\n",
       "    }\n",
       "</style>\n",
       "<table border=\"1\" class=\"dataframe\">\n",
       "  <thead>\n",
       "    <tr style=\"text-align: right;\">\n",
       "      <th></th>\n",
       "      <th>Posição</th>\n",
       "      <th>País</th>\n",
       "      <th>PIB (Trilhões de US$)</th>\n",
       "    </tr>\n",
       "  </thead>\n",
       "  <tbody>\n",
       "    <tr>\n",
       "      <th>1</th>\n",
       "      <td>1</td>\n",
       "      <td>Estados Unidos</td>\n",
       "      <td>20580250.0</td>\n",
       "    </tr>\n",
       "    <tr>\n",
       "      <th>3</th>\n",
       "      <td>2</td>\n",
       "      <td>China</td>\n",
       "      <td>14860775.0</td>\n",
       "    </tr>\n",
       "    <tr>\n",
       "      <th>4</th>\n",
       "      <td>3</td>\n",
       "      <td>Japão</td>\n",
       "      <td>4910580.0</td>\n",
       "    </tr>\n",
       "    <tr>\n",
       "      <th>5</th>\n",
       "      <td>4</td>\n",
       "      <td>Alemanha</td>\n",
       "      <td>3780553.0</td>\n",
       "    </tr>\n",
       "    <tr>\n",
       "      <th>6</th>\n",
       "      <td>5</td>\n",
       "      <td>Reino Unido</td>\n",
       "      <td>2638296.0</td>\n",
       "    </tr>\n",
       "    <tr>\n",
       "      <th>7</th>\n",
       "      <td>6</td>\n",
       "      <td>Índia</td>\n",
       "      <td>2592583.0</td>\n",
       "    </tr>\n",
       "    <tr>\n",
       "      <th>8</th>\n",
       "      <td>7</td>\n",
       "      <td>França</td>\n",
       "      <td>2551451.0</td>\n",
       "    </tr>\n",
       "    <tr>\n",
       "      <th>9</th>\n",
       "      <td>8</td>\n",
       "      <td>Itália</td>\n",
       "      <td>1848222.0</td>\n",
       "    </tr>\n",
       "    <tr>\n",
       "      <th>10</th>\n",
       "      <td>9</td>\n",
       "      <td>Canadá</td>\n",
       "      <td>1600264.0</td>\n",
       "    </tr>\n",
       "    <tr>\n",
       "      <th>11</th>\n",
       "      <td>10</td>\n",
       "      <td>Coreia do Sul</td>\n",
       "      <td>1586786.0</td>\n",
       "    </tr>\n",
       "  </tbody>\n",
       "</table>\n",
       "</div>"
      ],
      "text/plain": [
       "   Posição            País  PIB (Trilhões de US$)\n",
       "1        1  Estados Unidos             20580250.0\n",
       "3        2           China             14860775.0\n",
       "4        3           Japão              4910580.0\n",
       "5        4        Alemanha              3780553.0\n",
       "6        5     Reino Unido              2638296.0\n",
       "7        6           Índia              2592583.0\n",
       "8        7          França              2551451.0\n",
       "9        8          Itália              1848222.0\n",
       "10       9          Canadá              1600264.0\n",
       "11      10   Coreia do Sul              1586786.0"
      ]
     },
     "execution_count": 13,
     "metadata": {},
     "output_type": "execute_result"
    }
   ],
   "source": [
    "# Ajustando o valor da coluna\n",
    "Tabela_PIB['PIB (Trilhões de US$)'] = pd.to_numeric( Tabela_PIB['PIB (Trilhões de US$)'] )\n",
    "\n",
    "# Filtrar posições não nulos\n",
    "Filtro = Tabela_PIB.loc[ Tabela_PIB['Posição'].notnull() ]\n",
    "\n",
    "# Verificando\n",
    "Filtro.head(10)"
   ]
  },
  {
   "cell_type": "code",
   "execution_count": 14,
   "id": "134fa70c",
   "metadata": {},
   "outputs": [
    {
     "data": {
      "text/plain": [
       "bs4.BeautifulSoup"
      ]
     },
     "execution_count": 14,
     "metadata": {},
     "output_type": "execute_result"
    }
   ],
   "source": [
    "# Conexão com o site\n",
    "Pagina_Web = requests.get(Url)\n",
    "\n",
    "# BS4 vai intrepretar o arquivo html\n",
    "Coleta = BeautifulSoup(Pagina_Web.text, 'html.parser')\n",
    "\n",
    "# Tipo\n",
    "type( Coleta )"
   ]
  },
  {
   "cell_type": "code",
   "execution_count": 16,
   "id": "eed8c935",
   "metadata": {},
   "outputs": [
    {
     "name": "stdout",
     "output_type": "stream",
     "text": [
      "Foram localizado 594 links de Imagens\n"
     ]
    }
   ],
   "source": [
    "# Capturar todos os links\n",
    "Imagens = Coleta.find_all('img', attrs={'class' : 'thumbborder'} )\n",
    "\n",
    "# Salvando o slinks\n",
    "Links = []\n",
    "\n",
    "# Loop ajustando a imagem\n",
    "for Link in Imagens:\n",
    "    Link_Imagem = 'https:' + Link['src']\n",
    "    Links.append( Link_Imagem )\n",
    "    \n",
    "print(f'Foram localizado {len(Links)} links de Imagens')"
   ]
  },
  {
   "cell_type": "code",
   "execution_count": 20,
   "id": "e25dfb91",
   "metadata": {},
   "outputs": [
    {
     "name": "stdout",
     "output_type": "stream",
     "text": [
      "https://upload.wikimedia.org/wikipedia/commons/thumb/a/a4/Flag_of_the_United_States.svg/22px-Flag_of_the_United_States.svg.png\n",
      "https://upload.wikimedia.org/wikipedia/commons/thumb/b/b7/Flag_of_Europe.svg/22px-Flag_of_Europe.svg.png\n",
      "https://upload.wikimedia.org/wikipedia/commons/thumb/f/fa/Flag_of_the_People%27s_Republic_of_China.svg/22px-Flag_of_the_People%27s_Republic_of_China.svg.png\n"
     ]
    }
   ],
   "source": [
    "# Verificando\n",
    "print( Links[0] )\n",
    "print( Links[1] )\n",
    "print( Links[2] )"
   ]
  },
  {
   "cell_type": "code",
   "execution_count": 24,
   "id": "f90da2e2",
   "metadata": {},
   "outputs": [
    {
     "data": {
      "image/png": "[encoded data removed]",
      "text/plain": [
       "<PIL.PngImagePlugin.PngImageFile image mode=P size=22x15 at 0x251EFF35760>"
      ]
     },
     "execution_count": 24,
     "metadata": {},
     "output_type": "execute_result"
    }
   ],
   "source": [
    "# Lib para imagens\n",
    "from PIL import Image\n",
    "from io import BytesIO\n",
    "\n",
    "# Pegando um link de imagem\n",
    "Response = requests.get(Links[1] )\n",
    "\n",
    "# Convertendo para imagen\n",
    "Image.open( BytesIO(Response.content) )"
   ]
  },
  {
   "cell_type": "code",
   "execution_count": 25,
   "id": "24749543",
   "metadata": {},
   "outputs": [
    {
     "data": {
      "text/plain": [
       "'https://upload.wikimedia.org/wikipedia/commons/thumb/b/b7/Flag_of_Europe.svg/22px-Flag_of_Europe.svg.png'"
      ]
     },
     "execution_count": 25,
     "metadata": {},
     "output_type": "execute_result"
    }
   ],
   "source": [
    "# Removendo a bandeira da UE\n",
    "Links.pop(1)"
   ]
  },
  {
   "cell_type": "code",
   "execution_count": 33,
   "id": "841fa14a",
   "metadata": {},
   "outputs": [
    {
     "data": {
      "application/vnd.plotly.v1+json": {
       "config": {
        "plotlyServerURL": "https://plot.ly"
       },
       "data": [
        {
         "text": [
          20580250,
          14860775,
          4910580,
          3780553,
          2638296,
          2592583,
          2551451,
          1848222,
          1600264,
          1586786
         ],
         "textposition": "outside",
         "texttemplate": "%{text:.3s}",
         "type": "bar",
         "x": [
          "Estados Unidos",
          "China",
          "Japão",
          "Alemanha",
          "Reino Unido",
          "Índia",
          "França",
          "Itália",
          "Canadá",
          "Coreia do Sul"
         ],
         "xaxis": "x",
         "y": [
          20580250,
          14860775,
          4910580,
          3780553,
          2638296,
          2592583,
          2551451,
          1848222,
          1600264,
          1586786
         ],
         "yaxis": "y"
        }
       ],
       "layout": {
        "annotations": [
         {
          "font": {
           "size": 16
          },
          "showarrow": false,
          "text": "Top 10 PIBs Mundiais",
          "x": 0.5,
          "xanchor": "center",
          "xref": "paper",
          "y": 1,
          "yanchor": "bottom",
          "yref": "paper"
         }
        ],
        "height": 500,
        "images": [
         {
          "sizex": 0.05,
          "sizey": 0.05,
          "source": "data:image/png;base64,iVBORw0KGgoAAAANSUhEUgAAABYAAAAMCAMAAABRJ730AAAAn1BMVEVYV4M/PnBZWIJCQXJVVYBFRHVlTXW4M0RRUH1aWYRhYIpZWINjYotVVIFdXIZsZ47z3eBGRXZZWIRPTnxcW4ZLSnlbWoVcR3HEVWNWVYFXVoFlZI1dXIdlZIxsZIrnu8FGRXddXIVIR3haWoRbWoRNTHtqWX/Qd4JUU4BiYYpXVoJkZIxaWYVqXYTcmqKTcIuSboqSb4qTb4uieJD///91OKIAAAAAa0lEQVR4nG3I2xpCQBQG0J9Ek0iDicqh4zClCe//bt1u37fX5QIcFysPaz+gsBHbUOyieJ9QOECmMsvVsaBQns6XsBJx3VCQ7VXd7o/nS1Poyl6Zt/kMXwr2Z+042WletmahYaFgIWEhYP0BBQMatD9pm3UAAAAASUVORK5CYII=",
          "x": 0.062,
          "xanchor": "right",
          "y": -0.15,
          "yanchor": "bottom"
         },
         {
          "sizex": 0.05,
          "sizey": 0.05,
          "source": "data:image/png;base64,iVBORw0KGgoAAAANSUhEUgAAABYAAAAPCAMAAADXs89aAAAAWlBMVEXuHCXuHyXvLiLvLCL3kRLuHSX4pg/vJCTuICTyTB3vLSLvKiP5swz//AD83AbxSh3yVRzvLyLzXRr80wfxQB/uHiXxQR/1dBfxPh/vJyP2gxTuISTwMCL///+JvmHHAAAASElEQVR4nGNggABGBgzAxMDAzMKKIczGzsDAwcmFKsjNw8vHz8AgIIimWEiYDWISKhARFQOS4hKYljJISmERZGCQlsEqPHgBAIJaAZ9Sy0J/AAAAAElFTkSuQmCC",
          "x": 0.162,
          "xanchor": "right",
          "y": -0.15,
          "yanchor": "bottom"
         },
         {
          "sizex": 0.05,
          "sizey": 0.05,
          "source": "data:image/png;base64,iVBORw0KGgoAAAANSUhEUgAAABYAAAAPCAMAAADXs89aAAAAP1BMVEX////xy9TQS2u/DTjyzdbtusa+BzO8AC2+CDTtu8f9+PnDHETEHUX9+frtvMjmn7DmoLHuvcnQTWzADjnyztcsOsG+AAAASElEQVR4nGNgoCZgZGJmZmJBF2VlYwcCDk5UUS5udjDg4UUR5mSHAj4UYX6YsAB21YLEmM3AygF2CarRQMAiJCwsJELQe6QAAJqxApHlipe4AAAAAElFTkSuQmCC",
          "x": 0.262,
          "xanchor": "right",
          "y": -0.15,
          "yanchor": "bottom"
         },
         {
          "sizex": 0.05,
          "sizey": 0.05,
          "source": "data:image/png;base64,iVBORw0KGgoAAAANSUhEUgAAABYAAAANBAMAAABfi4NQAAAAElBMVEUAAACUAADdAADoRQD/zgD////wbRMpAAAAHElEQVR4nGNgIBEIIgCDEgLgZBsjAIMLAhDDBgAv/RL/yJfqhAAAAABJRU5ErkJggg==",
          "x": 0.36200000000000004,
          "xanchor": "right",
          "y": -0.15,
          "yanchor": "bottom"
         },
         {
          "sizex": 0.05,
          "sizey": 0.05,
          "source": "data:image/png;base64,iVBORw0KGgoAAAANSUhEUgAAABYAAAALCAMAAABMIo1MAAAAnFBMVEXYU2nxxMvt7/SAkLQRL3IBIWnTxtTIEC4NK3B5d57WboKCgabZeIvXUWfwv8fs7vR8jLEOLHF3eJ/Xd4lWa5tecqCkpb/kpLDki5r11Nrz9Pjs3OPs2uCqtc1gdKHeb4HcZXmgrMbw8vb22t7ljpzknKnt2uHr2uKvrMRwgqro6/Hyx87YVWvXan6Hg6bWaX6Ef6PYcIOHg6f///9GKYl2AAAAhklEQVR4nHVP1w4CMQxzgVzKuAVlr2Nzg/n/H0dDKQgJ/OKhJIoBVas3yCJgDoR1swWFdieM4iT1ceo8SHd7YWQ3JPaaYIzpD4aj8WTKPBOeL2yEpUfGnL0N+Cf+Tcvt1Xqz3e2ZD8LH523SeVFWp7P75KUJSVxWl+vnb+dtodv9u2VeKDwAZbQRS/0Ec4UAAAAASUVORK5CYII=",
          "x": 0.462,
          "xanchor": "right",
          "y": -0.15,
          "yanchor": "bottom"
         },
         {
          "sizex": 0.05,
          "sizey": 0.05,
          "source": "data:image/png;base64,iVBORw0KGgoAAAANSUhEUgAAABYAAAAPBAMAAAASQyJbAAAAKlBMVEX/mTP////5+fyjo9WKisu/v+G+vuCbm9GJicu+vuGLi8ukpNb6+v0SiAf39HtwAAAALElEQVR4nGNgoAAIAoGQsSKIArNFwhzhbPGOQoR45kI4W2j3QTD7LgKQygYADcI28f2E53cAAAAASUVORK5CYII=",
          "x": 0.562,
          "xanchor": "right",
          "y": -0.15,
          "yanchor": "bottom"
         },
         {
          "sizex": 0.05,
          "sizey": 0.05,
          "source": "data:image/png;base64,iVBORw0KGgoAAAANSUhEUgAAABYAAAAPBAMAAAASQyJbAAAAD1BMVEUAI5Wqttz////5ub7tKTkCNwK+AAAAF0lEQVR4nGNgYGBgVFJSMnFxcWEYImwAMH0VCqPM2BYAAAAASUVORK5CYII=",
          "x": 0.6619999999999999,
          "xanchor": "right",
          "y": -0.15,
          "yanchor": "bottom"
         },
         {
          "sizex": 0.05,
          "sizey": 0.05,
          "source": "data:image/png;base64,iVBORw0KGgoAAAANSUhEUgAAABYAAAAPBAMAAAASQyJbAAAAD1BMVEUAkkar28L////vuLzOKzc3Vqe8AAAAF0lEQVR4nGNgYGBgVFJSMnFxcWEYImwAMH0VCqPM2BYAAAAASUVORK5CYII=",
          "x": 0.762,
          "xanchor": "right",
          "y": -0.15,
          "yanchor": "bottom"
         },
         {
          "sizex": 0.05,
          "sizey": 0.05,
          "source": "data:image/png;base64,iVBORw0KGgoAAAANSUhEUgAAABYAAAALCAMAAABMIo1MAAAAWlBMVEXrmpT++vrVKx7////qlY/ywLzzwb3sn5rbS0D//f3//v754N7to53+/PvbST7XNinhZ1799vXbRzzzxcHYOS3XNyryv7v20s/VLSH88O/539354uD42tj429lt1n5sAAAAAnRSTlP1/kVdB9sAAABlSURBVHicZY/JDoAgEENhQFkEWVxA0P//TQMmGrCHNnmHmRZBESKv0AOq0wKGsTjtMOOc9VjISQGoSYoG69lYAGtm3WDna4J37e1lLbnt/csAMUL4NTlSzun4FyTn1feuKzH+Vt4VSQSZmSp9WQAAAABJRU5ErkJggg==",
          "x": 0.8619999999999999,
          "xanchor": "right",
          "y": -0.15,
          "yanchor": "bottom"
         },
         {
          "sizex": 0.05,
          "sizey": 0.05,
          "source": "data:image/png;base64,iVBORw0KGgoAAAANSUhEUgAAABYAAAAPCAMAAADXs89aAAAA21BMVEX///+2tra1tbVaWlpvb2/c3Ny5ubnx8fFQUFBPT09OTk7p6en//v722tz22dv+/f3s7OxXV1d2dnbv7++ioqJZWVlcXFynp6fut7rSQUzNLjrTR1Hzy869vb1kZGTOzs5ycnLf1eDLMT7QOUT66uuWfJ/ELz6NNlq+MELnm6Fuiru5MES5NEgjSJUAR6AURZbPf4yEptEORZk3QIQMRpqefJzl7PUNUKUMTqPh1+JdXV3A0ugfXawoZK/B0uhlZWVRUVF/f3/8/f7R3u7S3+7+/v/r6+uBgYG8vLwngy5SAAAAnUlEQVR4nGNgwAMYsTKZmFlYISxWFmY2mCg7BycXNwMPLx8/gwCnoJAwVFhEVEycQUJSSkpahkFWTlQEplxegUFRSQoIlFUYFOSRLVUFCqqpa2iiuUVLW0pHV0/fAE3Y0MjYRE9PzxRZDGi2mTlQUM/CEslsEVErcQZrGz09WzsGWXu4S9gdHIHudnJ2cWVw43SHuxvVlx6EwgQTAADA6g61YjwaRAAAAABJRU5ErkJggg==",
          "x": 0.962,
          "xanchor": "right",
          "y": -0.15,
          "yanchor": "bottom"
         }
        ],
        "showlegend": false,
        "template": {
         "data": {
          "bar": [
           {
            "error_x": {
             "color": "#2a3f5f"
            },
            "error_y": {
             "color": "#2a3f5f"
            },
            "marker": {
             "line": {
              "color": "#E5ECF6",
              "width": 0.5
             },
             "pattern": {
              "fillmode": "overlay",
              "size": 10,
              "solidity": 0.2
             }
            },
            "type": "bar"
           }
          ],
          "barpolar": [
           {
            "marker": {
             "line": {
              "color": "#E5ECF6",
              "width": 0.5
             },
             "pattern": {
              "fillmode": "overlay",
              "size": 10,
              "solidity": 0.2
             }
            },
            "type": "barpolar"
           }
          ],
          "carpet": [
           {
            "aaxis": {
             "endlinecolor": "#2a3f5f",
             "gridcolor": "white",
             "linecolor": "white",
             "minorgridcolor": "white",
             "startlinecolor": "#2a3f5f"
            },
            "baxis": {
             "endlinecolor": "#2a3f5f",
             "gridcolor": "white",
             "linecolor": "white",
             "minorgridcolor": "white",
             "startlinecolor": "#2a3f5f"
            },
            "type": "carpet"
           }
          ],
          "choropleth": [
           {
            "colorbar": {
             "outlinewidth": 0,
             "ticks": ""
            },
            "type": "choropleth"
           }
          ],
          "contour": [
           {
            "colorbar": {
             "outlinewidth": 0,
             "ticks": ""
            },
            "colorscale": [
             [
              0,
              "#0d0887"
             ],
             [
              0.1111111111111111,
              "#46039f"
             ],
             [
              0.2222222222222222,
              "#7201a8"
             ],
             [
              0.3333333333333333,
              "#9c179e"
             ],
             [
              0.4444444444444444,
              "#bd3786"
             ],
             [
              0.5555555555555556,
              "#d8576b"
             ],
             [
              0.6666666666666666,
              "#ed7953"
             ],
             [
              0.7777777777777778,
              "#fb9f3a"
             ],
             [
              0.8888888888888888,
              "#fdca26"
             ],
             [
              1,
              "#f0f921"
             ]
            ],
            "type": "contour"
           }
          ],
          "contourcarpet": [
           {
            "colorbar": {
             "outlinewidth": 0,
             "ticks": ""
            },
            "type": "contourcarpet"
           }
          ],
          "heatmap": [
           {
            "colorbar": {
             "outlinewidth": 0,
             "ticks": ""
            },
            "colorscale": [
             [
              0,
              "#0d0887"
             ],
             [
              0.1111111111111111,
              "#46039f"
             ],
             [
              0.2222222222222222,
              "#7201a8"
             ],
             [
              0.3333333333333333,
              "#9c179e"
             ],
             [
              0.4444444444444444,
              "#bd3786"
             ],
             [
              0.5555555555555556,
              "#d8576b"
             ],
             [
              0.6666666666666666,
              "#ed7953"
             ],
             [
              0.7777777777777778,
              "#fb9f3a"
             ],
             [
              0.8888888888888888,
              "#fdca26"
             ],
             [
              1,
              "#f0f921"
             ]
            ],
            "type": "heatmap"
           }
          ],
          "heatmapgl": [
           {
            "colorbar": {
             "outlinewidth": 0,
             "ticks": ""
            },
            "colorscale": [
             [
              0,
              "#0d0887"
             ],
             [
              0.1111111111111111,
              "#46039f"
             ],
             [
              0.2222222222222222,
              "#7201a8"
             ],
             [
              0.3333333333333333,
              "#9c179e"
             ],
             [
              0.4444444444444444,
              "#bd3786"
             ],
             [
              0.5555555555555556,
              "#d8576b"
             ],
             [
              0.6666666666666666,
              "#ed7953"
             ],
             [
              0.7777777777777778,
              "#fb9f3a"
             ],
             [
              0.8888888888888888,
              "#fdca26"
             ],
             [
              1,
              "#f0f921"
             ]
            ],
            "type": "heatmapgl"
           }
          ],
          "histogram": [
           {
            "marker": {
             "pattern": {
              "fillmode": "overlay",
              "size": 10,
              "solidity": 0.2
             }
            },
            "type": "histogram"
           }
          ],
          "histogram2d": [
           {
            "colorbar": {
             "outlinewidth": 0,
             "ticks": ""
            },
            "colorscale": [
             [
              0,
              "#0d0887"
             ],
             [
              0.1111111111111111,
              "#46039f"
             ],
             [
              0.2222222222222222,
              "#7201a8"
             ],
             [
              0.3333333333333333,
              "#9c179e"
             ],
             [
              0.4444444444444444,
              "#bd3786"
             ],
             [
              0.5555555555555556,
              "#d8576b"
             ],
             [
              0.6666666666666666,
              "#ed7953"
             ],
             [
              0.7777777777777778,
              "#fb9f3a"
             ],
             [
              0.8888888888888888,
              "#fdca26"
             ],
             [
              1,
              "#f0f921"
             ]
            ],
            "type": "histogram2d"
           }
          ],
          "histogram2dcontour": [
           {
            "colorbar": {
             "outlinewidth": 0,
             "ticks": ""
            },
            "colorscale": [
             [
              0,
              "#0d0887"
             ],
             [
              0.1111111111111111,
              "#46039f"
             ],
             [
              0.2222222222222222,
              "#7201a8"
             ],
             [
              0.3333333333333333,
              "#9c179e"
             ],
             [
              0.4444444444444444,
              "#bd3786"
             ],
             [
              0.5555555555555556,
              "#d8576b"
             ],
             [
              0.6666666666666666,
              "#ed7953"
             ],
             [
              0.7777777777777778,
              "#fb9f3a"
             ],
             [
              0.8888888888888888,
              "#fdca26"
             ],
             [
              1,
              "#f0f921"
             ]
            ],
            "type": "histogram2dcontour"
           }
          ],
          "mesh3d": [
           {
            "colorbar": {
             "outlinewidth": 0,
             "ticks": ""
            },
            "type": "mesh3d"
           }
          ],
          "parcoords": [
           {
            "line": {
             "colorbar": {
              "outlinewidth": 0,
              "ticks": ""
             }
            },
            "type": "parcoords"
           }
          ],
          "pie": [
           {
            "automargin": true,
            "type": "pie"
           }
          ],
          "scatter": [
           {
            "marker": {
             "colorbar": {
              "outlinewidth": 0,
              "ticks": ""
             }
            },
            "type": "scatter"
           }
          ],
          "scatter3d": [
           {
            "line": {
             "colorbar": {
              "outlinewidth": 0,
              "ticks": ""
             }
            },
            "marker": {
             "colorbar": {
              "outlinewidth": 0,
              "ticks": ""
             }
            },
            "type": "scatter3d"
           }
          ],
          "scattercarpet": [
           {
            "marker": {
             "colorbar": {
              "outlinewidth": 0,
              "ticks": ""
             }
            },
            "type": "scattercarpet"
           }
          ],
          "scattergeo": [
           {
            "marker": {
             "colorbar": {
              "outlinewidth": 0,
              "ticks": ""
             }
            },
            "type": "scattergeo"
           }
          ],
          "scattergl": [
           {
            "marker": {
             "colorbar": {
              "outlinewidth": 0,
              "ticks": ""
             }
            },
            "type": "scattergl"
           }
          ],
          "scattermapbox": [
           {
            "marker": {
             "colorbar": {
              "outlinewidth": 0,
              "ticks": ""
             }
            },
            "type": "scattermapbox"
           }
          ],
          "scatterpolar": [
           {
            "marker": {
             "colorbar": {
              "outlinewidth": 0,
              "ticks": ""
             }
            },
            "type": "scatterpolar"
           }
          ],
          "scatterpolargl": [
           {
            "marker": {
             "colorbar": {
              "outlinewidth": 0,
              "ticks": ""
             }
            },
            "type": "scatterpolargl"
           }
          ],
          "scatterternary": [
           {
            "marker": {
             "colorbar": {
              "outlinewidth": 0,
              "ticks": ""
             }
            },
            "type": "scatterternary"
           }
          ],
          "surface": [
           {
            "colorbar": {
             "outlinewidth": 0,
             "ticks": ""
            },
            "colorscale": [
             [
              0,
              "#0d0887"
             ],
             [
              0.1111111111111111,
              "#46039f"
             ],
             [
              0.2222222222222222,
              "#7201a8"
             ],
             [
              0.3333333333333333,
              "#9c179e"
             ],
             [
              0.4444444444444444,
              "#bd3786"
             ],
             [
              0.5555555555555556,
              "#d8576b"
             ],
             [
              0.6666666666666666,
              "#ed7953"
             ],
             [
              0.7777777777777778,
              "#fb9f3a"
             ],
             [
              0.8888888888888888,
              "#fdca26"
             ],
             [
              1,
              "#f0f921"
             ]
            ],
            "type": "surface"
           }
          ],
          "table": [
           {
            "cells": {
             "fill": {
              "color": "#EBF0F8"
             },
             "line": {
              "color": "white"
             }
            },
            "header": {
             "fill": {
              "color": "#C8D4E3"
             },
             "line": {
              "color": "white"
             }
            },
            "type": "table"
           }
          ]
         },
         "layout": {
          "annotationdefaults": {
           "arrowcolor": "#2a3f5f",
           "arrowhead": 0,
           "arrowwidth": 1
          },
          "autotypenumbers": "strict",
          "coloraxis": {
           "colorbar": {
            "outlinewidth": 0,
            "ticks": ""
           }
          },
          "colorscale": {
           "diverging": [
            [
             0,
             "#8e0152"
            ],
            [
             0.1,
             "#c51b7d"
            ],
            [
             0.2,
             "#de77ae"
            ],
            [
             0.3,
             "#f1b6da"
            ],
            [
             0.4,
             "#fde0ef"
            ],
            [
             0.5,
             "#f7f7f7"
            ],
            [
             0.6,
             "#e6f5d0"
            ],
            [
             0.7,
             "#b8e186"
            ],
            [
             0.8,
             "#7fbc41"
            ],
            [
             0.9,
             "#4d9221"
            ],
            [
             1,
             "#276419"
            ]
           ],
           "sequential": [
            [
             0,
             "#0d0887"
            ],
            [
             0.1111111111111111,
             "#46039f"
            ],
            [
             0.2222222222222222,
             "#7201a8"
            ],
            [
             0.3333333333333333,
             "#9c179e"
            ],
            [
             0.4444444444444444,
             "#bd3786"
            ],
            [
             0.5555555555555556,
             "#d8576b"
            ],
            [
             0.6666666666666666,
             "#ed7953"
            ],
            [
             0.7777777777777778,
             "#fb9f3a"
            ],
            [
             0.8888888888888888,
             "#fdca26"
            ],
            [
             1,
             "#f0f921"
            ]
           ],
           "sequentialminus": [
            [
             0,
             "#0d0887"
            ],
            [
             0.1111111111111111,
             "#46039f"
            ],
            [
             0.2222222222222222,
             "#7201a8"
            ],
            [
             0.3333333333333333,
             "#9c179e"
            ],
            [
             0.4444444444444444,
             "#bd3786"
            ],
            [
             0.5555555555555556,
             "#d8576b"
            ],
            [
             0.6666666666666666,
             "#ed7953"
            ],
            [
             0.7777777777777778,
             "#fb9f3a"
            ],
            [
             0.8888888888888888,
             "#fdca26"
            ],
            [
             1,
             "#f0f921"
            ]
           ]
          },
          "colorway": [
           "#636efa",
           "#EF553B",
           "#00cc96",
           "#ab63fa",
           "#FFA15A",
           "#19d3f3",
           "#FF6692",
           "#B6E880",
           "#FF97FF",
           "#FECB52"
          ],
          "font": {
           "color": "#2a3f5f"
          },
          "geo": {
           "bgcolor": "white",
           "lakecolor": "white",
           "landcolor": "#E5ECF6",
           "showlakes": true,
           "showland": true,
           "subunitcolor": "white"
          },
          "hoverlabel": {
           "align": "left"
          },
          "hovermode": "closest",
          "mapbox": {
           "style": "light"
          },
          "paper_bgcolor": "white",
          "plot_bgcolor": "#E5ECF6",
          "polar": {
           "angularaxis": {
            "gridcolor": "white",
            "linecolor": "white",
            "ticks": ""
           },
           "bgcolor": "#E5ECF6",
           "radialaxis": {
            "gridcolor": "white",
            "linecolor": "white",
            "ticks": ""
           }
          },
          "scene": {
           "xaxis": {
            "backgroundcolor": "#E5ECF6",
            "gridcolor": "white",
            "gridwidth": 2,
            "linecolor": "white",
            "showbackground": true,
            "ticks": "",
            "zerolinecolor": "white"
           },
           "yaxis": {
            "backgroundcolor": "#E5ECF6",
            "gridcolor": "white",
            "gridwidth": 2,
            "linecolor": "white",
            "showbackground": true,
            "ticks": "",
            "zerolinecolor": "white"
           },
           "zaxis": {
            "backgroundcolor": "#E5ECF6",
            "gridcolor": "white",
            "gridwidth": 2,
            "linecolor": "white",
            "showbackground": true,
            "ticks": "",
            "zerolinecolor": "white"
           }
          },
          "shapedefaults": {
           "line": {
            "color": "#2a3f5f"
           }
          },
          "ternary": {
           "aaxis": {
            "gridcolor": "white",
            "linecolor": "white",
            "ticks": ""
           },
           "baxis": {
            "gridcolor": "white",
            "linecolor": "white",
            "ticks": ""
           },
           "bgcolor": "#E5ECF6",
           "caxis": {
            "gridcolor": "white",
            "linecolor": "white",
            "ticks": ""
           }
          },
          "title": {
           "x": 0.05
          },
          "xaxis": {
           "automargin": true,
           "gridcolor": "white",
           "linecolor": "white",
           "ticks": "",
           "title": {
            "standoff": 15
           },
           "zerolinecolor": "white",
           "zerolinewidth": 2
          },
          "yaxis": {
           "automargin": true,
           "gridcolor": "white",
           "linecolor": "white",
           "ticks": "",
           "title": {
            "standoff": 15
           },
           "zerolinecolor": "white",
           "zerolinewidth": 2
          }
         }
        },
        "title": {
         "text": "Lista do Fundo Monetário Internacional",
         "x": 0.5,
         "xanchor": "center",
         "y": 0.97,
         "yanchor": "top"
        },
        "xaxis": {
         "anchor": "y",
         "domain": [
          0,
          1
         ]
        },
        "yaxis": {
         "anchor": "x",
         "domain": [
          0,
          1
         ]
        }
       }
      },
      "text/html": [
       "<div>                            <div id=\"126284f8-cf6e-4557-a5d5-bc5dc0639246\" class=\"plotly-graph-div\" style=\"height:500px; width:100%;\"></div>            <script type=\"text/javascript\">                require([\"plotly\"], function(Plotly) {                    window.PLOTLYENV=window.PLOTLYENV || {};                                    if (document.getElementById(\"126284f8-cf6e-4557-a5d5-bc5dc0639246\")) {                    Plotly.newPlot(                        \"126284f8-cf6e-4557-a5d5-bc5dc0639246\",                        [{\"text\":[20580250.0,14860775.0,4910580.0,3780553.0,2638296.0,2592583.0,2551451.0,1848222.0,1600264.0,1586786.0],\"textposition\":\"outside\",\"texttemplate\":\"%{text:.3s}\",\"type\":\"bar\",\"x\":[\"Estados Unidos\",\"China\",\"Jap\\u00e3o\",\"Alemanha\",\"Reino Unido\",\"\\u00cdndia\",\"Fran\\u00e7a\",\"It\\u00e1lia\",\"Canad\\u00e1\",\"Coreia do Sul\"],\"xaxis\":\"x\",\"y\":[20580250.0,14860775.0,4910580.0,3780553.0,2638296.0,2592583.0,2551451.0,1848222.0,1600264.0,1586786.0],\"yaxis\":\"y\"}],                        {\"annotations\":[{\"font\":{\"size\":16},\"showarrow\":false,\"text\":\"Top 10 PIBs Mundiais\",\"x\":0.5,\"xanchor\":\"center\",\"xref\":\"paper\",\"y\":1.0,\"yanchor\":\"bottom\",\"yref\":\"paper\"}],\"height\":500,\"images\":[{\"sizex\":0.05,\"sizey\":0.05,\"source\":\"data:image/png;base64,iVBORw0KGgoAAAANSUhEUgAAABYAAAAMCAMAAABRJ730AAAAn1BMVEVYV4M/PnBZWIJCQXJVVYBFRHVlTXW4M0RRUH1aWYRhYIpZWINjYotVVIFdXIZsZ47z3eBGRXZZWIRPTnxcW4ZLSnlbWoVcR3HEVWNWVYFXVoFlZI1dXIdlZIxsZIrnu8FGRXddXIVIR3haWoRbWoRNTHtqWX/Qd4JUU4BiYYpXVoJkZIxaWYVqXYTcmqKTcIuSboqSb4qTb4uieJD///91OKIAAAAAa0lEQVR4nG3I2xpCQBQG0J9Ek0iDicqh4zClCe//bt1u37fX5QIcFysPaz+gsBHbUOyieJ9QOECmMsvVsaBQns6XsBJx3VCQ7VXd7o/nS1Poyl6Zt/kMXwr2Z+042WletmahYaFgIWEhYP0BBQMatD9pm3UAAAAASUVORK5CYII=\",\"x\":0.062,\"xanchor\":\"right\",\"y\":-0.15,\"yanchor\":\"bottom\"},{\"sizex\":0.05,\"sizey\":0.05,\"source\":\"data:image/png;base64,iVBORw0KGgoAAAANSUhEUgAAABYAAAAPCAMAAADXs89aAAAAWlBMVEXuHCXuHyXvLiLvLCL3kRLuHSX4pg/vJCTuICTyTB3vLSLvKiP5swz//AD83AbxSh3yVRzvLyLzXRr80wfxQB/uHiXxQR/1dBfxPh/vJyP2gxTuISTwMCL///+JvmHHAAAASElEQVR4nGNggABGBgzAxMDAzMKKIczGzsDAwcmFKsjNw8vHz8AgIIimWEiYDWISKhARFQOS4hKYljJISmERZGCQlsEqPHgBAIJaAZ9Sy0J/AAAAAElFTkSuQmCC\",\"x\":0.162,\"xanchor\":\"right\",\"y\":-0.15,\"yanchor\":\"bottom\"},{\"sizex\":0.05,\"sizey\":0.05,\"source\":\"data:image/png;base64,iVBORw0KGgoAAAANSUhEUgAAABYAAAAPCAMAAADXs89aAAAAP1BMVEX////xy9TQS2u/DTjyzdbtusa+BzO8AC2+CDTtu8f9+PnDHETEHUX9+frtvMjmn7DmoLHuvcnQTWzADjnyztcsOsG+AAAASElEQVR4nGNgoCZgZGJmZmJBF2VlYwcCDk5UUS5udjDg4UUR5mSHAj4UYX6YsAB21YLEmM3AygF2CarRQMAiJCwsJELQe6QAAJqxApHlipe4AAAAAElFTkSuQmCC\",\"x\":0.262,\"xanchor\":\"right\",\"y\":-0.15,\"yanchor\":\"bottom\"},{\"sizex\":0.05,\"sizey\":0.05,\"source\":\"data:image/png;base64,iVBORw0KGgoAAAANSUhEUgAAABYAAAANBAMAAABfi4NQAAAAElBMVEUAAACUAADdAADoRQD/zgD////wbRMpAAAAHElEQVR4nGNgIBEIIgCDEgLgZBsjAIMLAhDDBgAv/RL/yJfqhAAAAABJRU5ErkJggg==\",\"x\":0.36200000000000004,\"xanchor\":\"right\",\"y\":-0.15,\"yanchor\":\"bottom\"},{\"sizex\":0.05,\"sizey\":0.05,\"source\":\"data:image/png;base64,iVBORw0KGgoAAAANSUhEUgAAABYAAAALCAMAAABMIo1MAAAAnFBMVEXYU2nxxMvt7/SAkLQRL3IBIWnTxtTIEC4NK3B5d57WboKCgabZeIvXUWfwv8fs7vR8jLEOLHF3eJ/Xd4lWa5tecqCkpb/kpLDki5r11Nrz9Pjs3OPs2uCqtc1gdKHeb4HcZXmgrMbw8vb22t7ljpzknKnt2uHr2uKvrMRwgqro6/Hyx87YVWvXan6Hg6bWaX6Ef6PYcIOHg6f///9GKYl2AAAAhklEQVR4nHVP1w4CMQxzgVzKuAVlr2Nzg/n/H0dDKQgJ/OKhJIoBVas3yCJgDoR1swWFdieM4iT1ceo8SHd7YWQ3JPaaYIzpD4aj8WTKPBOeL2yEpUfGnL0N+Cf+Tcvt1Xqz3e2ZD8LH523SeVFWp7P75KUJSVxWl+vnb+dtodv9u2VeKDwAZbQRS/0Ec4UAAAAASUVORK5CYII=\",\"x\":0.462,\"xanchor\":\"right\",\"y\":-0.15,\"yanchor\":\"bottom\"},{\"sizex\":0.05,\"sizey\":0.05,\"source\":\"data:image/png;base64,iVBORw0KGgoAAAANSUhEUgAAABYAAAAPBAMAAAASQyJbAAAAKlBMVEX/mTP////5+fyjo9WKisu/v+G+vuCbm9GJicu+vuGLi8ukpNb6+v0SiAf39HtwAAAALElEQVR4nGNgoAAIAoGQsSKIArNFwhzhbPGOQoR45kI4W2j3QTD7LgKQygYADcI28f2E53cAAAAASUVORK5CYII=\",\"x\":0.562,\"xanchor\":\"right\",\"y\":-0.15,\"yanchor\":\"bottom\"},{\"sizex\":0.05,\"sizey\":0.05,\"source\":\"data:image/png;base64,iVBORw0KGgoAAAANSUhEUgAAABYAAAAPBAMAAAASQyJbAAAAD1BMVEUAI5Wqttz////5ub7tKTkCNwK+AAAAF0lEQVR4nGNgYGBgVFJSMnFxcWEYImwAMH0VCqPM2BYAAAAASUVORK5CYII=\",\"x\":0.6619999999999999,\"xanchor\":\"right\",\"y\":-0.15,\"yanchor\":\"bottom\"},{\"sizex\":0.05,\"sizey\":0.05,\"source\":\"data:image/png;base64,iVBORw0KGgoAAAANSUhEUgAAABYAAAAPBAMAAAASQyJbAAAAD1BMVEUAkkar28L////vuLzOKzc3Vqe8AAAAF0lEQVR4nGNgYGBgVFJSMnFxcWEYImwAMH0VCqPM2BYAAAAASUVORK5CYII=\",\"x\":0.762,\"xanchor\":\"right\",\"y\":-0.15,\"yanchor\":\"bottom\"},{\"sizex\":0.05,\"sizey\":0.05,\"source\":\"data:image/png;base64,iVBORw0KGgoAAAANSUhEUgAAABYAAAALCAMAAABMIo1MAAAAWlBMVEXrmpT++vrVKx7////qlY/ywLzzwb3sn5rbS0D//f3//v754N7to53+/PvbST7XNinhZ1799vXbRzzzxcHYOS3XNyryv7v20s/VLSH88O/539354uD42tj429lt1n5sAAAAAnRSTlP1/kVdB9sAAABlSURBVHicZY/JDoAgEENhQFkEWVxA0P//TQMmGrCHNnmHmRZBESKv0AOq0wKGsTjtMOOc9VjISQGoSYoG69lYAGtm3WDna4J37e1lLbnt/csAMUL4NTlSzun4FyTn1feuKzH+Vt4VSQSZmSp9WQAAAABJRU5ErkJggg==\",\"x\":0.8619999999999999,\"xanchor\":\"right\",\"y\":-0.15,\"yanchor\":\"bottom\"},{\"sizex\":0.05,\"sizey\":0.05,\"source\":\"data:image/png;base64,iVBORw0KGgoAAAANSUhEUgAAABYAAAAPCAMAAADXs89aAAAA21BMVEX///+2tra1tbVaWlpvb2/c3Ny5ubnx8fFQUFBPT09OTk7p6en//v722tz22dv+/f3s7OxXV1d2dnbv7++ioqJZWVlcXFynp6fut7rSQUzNLjrTR1Hzy869vb1kZGTOzs5ycnLf1eDLMT7QOUT66uuWfJ/ELz6NNlq+MELnm6Fuiru5MES5NEgjSJUAR6AURZbPf4yEptEORZk3QIQMRpqefJzl7PUNUKUMTqPh1+JdXV3A0ugfXawoZK/B0uhlZWVRUVF/f3/8/f7R3u7S3+7+/v/r6+uBgYG8vLwngy5SAAAAnUlEQVR4nGNgwAMYsTKZmFlYISxWFmY2mCg7BycXNwMPLx8/gwCnoJAwVFhEVEycQUJSSkpahkFWTlQEplxegUFRSQoIlFUYFOSRLVUFCqqpa2iiuUVLW0pHV0/fAE3Y0MjYRE9PzxRZDGi2mTlQUM/CEslsEVErcQZrGz09WzsGWXu4S9gdHIHudnJ2cWVw43SHuxvVlx6EwgQTAADA6g61YjwaRAAAAABJRU5ErkJggg==\",\"x\":0.962,\"xanchor\":\"right\",\"y\":-0.15,\"yanchor\":\"bottom\"}],\"showlegend\":false,\"template\":{\"data\":{\"bar\":[{\"error_x\":{\"color\":\"#2a3f5f\"},\"error_y\":{\"color\":\"#2a3f5f\"},\"marker\":{\"line\":{\"color\":\"#E5ECF6\",\"width\":0.5},\"pattern\":{\"fillmode\":\"overlay\",\"size\":10,\"solidity\":0.2}},\"type\":\"bar\"}],\"barpolar\":[{\"marker\":{\"line\":{\"color\":\"#E5ECF6\",\"width\":0.5},\"pattern\":{\"fillmode\":\"overlay\",\"size\":10,\"solidity\":0.2}},\"type\":\"barpolar\"}],\"carpet\":[{\"aaxis\":{\"endlinecolor\":\"#2a3f5f\",\"gridcolor\":\"white\",\"linecolor\":\"white\",\"minorgridcolor\":\"white\",\"startlinecolor\":\"#2a3f5f\"},\"baxis\":{\"endlinecolor\":\"#2a3f5f\",\"gridcolor\":\"white\",\"linecolor\":\"white\",\"minorgridcolor\":\"white\",\"startlinecolor\":\"#2a3f5f\"},\"type\":\"carpet\"}],\"choropleth\":[{\"colorbar\":{\"outlinewidth\":0,\"ticks\":\"\"},\"type\":\"choropleth\"}],\"contour\":[{\"colorbar\":{\"outlinewidth\":0,\"ticks\":\"\"},\"colorscale\":[[0.0,\"#0d0887\"],[0.1111111111111111,\"#46039f\"],[0.2222222222222222,\"#7201a8\"],[0.3333333333333333,\"#9c179e\"],[0.4444444444444444,\"#bd3786\"],[0.5555555555555556,\"#d8576b\"],[0.6666666666666666,\"#ed7953\"],[0.7777777777777778,\"#fb9f3a\"],[0.8888888888888888,\"#fdca26\"],[1.0,\"#f0f921\"]],\"type\":\"contour\"}],\"contourcarpet\":[{\"colorbar\":{\"outlinewidth\":0,\"ticks\":\"\"},\"type\":\"contourcarpet\"}],\"heatmap\":[{\"colorbar\":{\"outlinewidth\":0,\"ticks\":\"\"},\"colorscale\":[[0.0,\"#0d0887\"],[0.1111111111111111,\"#46039f\"],[0.2222222222222222,\"#7201a8\"],[0.3333333333333333,\"#9c179e\"],[0.4444444444444444,\"#bd3786\"],[0.5555555555555556,\"#d8576b\"],[0.6666666666666666,\"#ed7953\"],[0.7777777777777778,\"#fb9f3a\"],[0.8888888888888888,\"#fdca26\"],[1.0,\"#f0f921\"]],\"type\":\"heatmap\"}],\"heatmapgl\":[{\"colorbar\":{\"outlinewidth\":0,\"ticks\":\"\"},\"colorscale\":[[0.0,\"#0d0887\"],[0.1111111111111111,\"#46039f\"],[0.2222222222222222,\"#7201a8\"],[0.3333333333333333,\"#9c179e\"],[0.4444444444444444,\"#bd3786\"],[0.5555555555555556,\"#d8576b\"],[0.6666666666666666,\"#ed7953\"],[0.7777777777777778,\"#fb9f3a\"],[0.8888888888888888,\"#fdca26\"],[1.0,\"#f0f921\"]],\"type\":\"heatmapgl\"}],\"histogram\":[{\"marker\":{\"pattern\":{\"fillmode\":\"overlay\",\"size\":10,\"solidity\":0.2}},\"type\":\"histogram\"}],\"histogram2d\":[{\"colorbar\":{\"outlinewidth\":0,\"ticks\":\"\"},\"colorscale\":[[0.0,\"#0d0887\"],[0.1111111111111111,\"#46039f\"],[0.2222222222222222,\"#7201a8\"],[0.3333333333333333,\"#9c179e\"],[0.4444444444444444,\"#bd3786\"],[0.5555555555555556,\"#d8576b\"],[0.6666666666666666,\"#ed7953\"],[0.7777777777777778,\"#fb9f3a\"],[0.8888888888888888,\"#fdca26\"],[1.0,\"#f0f921\"]],\"type\":\"histogram2d\"}],\"histogram2dcontour\":[{\"colorbar\":{\"outlinewidth\":0,\"ticks\":\"\"},\"colorscale\":[[0.0,\"#0d0887\"],[0.1111111111111111,\"#46039f\"],[0.2222222222222222,\"#7201a8\"],[0.3333333333333333,\"#9c179e\"],[0.4444444444444444,\"#bd3786\"],[0.5555555555555556,\"#d8576b\"],[0.6666666666666666,\"#ed7953\"],[0.7777777777777778,\"#fb9f3a\"],[0.8888888888888888,\"#fdca26\"],[1.0,\"#f0f921\"]],\"type\":\"histogram2dcontour\"}],\"mesh3d\":[{\"colorbar\":{\"outlinewidth\":0,\"ticks\":\"\"},\"type\":\"mesh3d\"}],\"parcoords\":[{\"line\":{\"colorbar\":{\"outlinewidth\":0,\"ticks\":\"\"}},\"type\":\"parcoords\"}],\"pie\":[{\"automargin\":true,\"type\":\"pie\"}],\"scatter\":[{\"marker\":{\"colorbar\":{\"outlinewidth\":0,\"ticks\":\"\"}},\"type\":\"scatter\"}],\"scatter3d\":[{\"line\":{\"colorbar\":{\"outlinewidth\":0,\"ticks\":\"\"}},\"marker\":{\"colorbar\":{\"outlinewidth\":0,\"ticks\":\"\"}},\"type\":\"scatter3d\"}],\"scattercarpet\":[{\"marker\":{\"colorbar\":{\"outlinewidth\":0,\"ticks\":\"\"}},\"type\":\"scattercarpet\"}],\"scattergeo\":[{\"marker\":{\"colorbar\":{\"outlinewidth\":0,\"ticks\":\"\"}},\"type\":\"scattergeo\"}],\"scattergl\":[{\"marker\":{\"colorbar\":{\"outlinewidth\":0,\"ticks\":\"\"}},\"type\":\"scattergl\"}],\"scattermapbox\":[{\"marker\":{\"colorbar\":{\"outlinewidth\":0,\"ticks\":\"\"}},\"type\":\"scattermapbox\"}],\"scatterpolar\":[{\"marker\":{\"colorbar\":{\"outlinewidth\":0,\"ticks\":\"\"}},\"type\":\"scatterpolar\"}],\"scatterpolargl\":[{\"marker\":{\"colorbar\":{\"outlinewidth\":0,\"ticks\":\"\"}},\"type\":\"scatterpolargl\"}],\"scatterternary\":[{\"marker\":{\"colorbar\":{\"outlinewidth\":0,\"ticks\":\"\"}},\"type\":\"scatterternary\"}],\"surface\":[{\"colorbar\":{\"outlinewidth\":0,\"ticks\":\"\"},\"colorscale\":[[0.0,\"#0d0887\"],[0.1111111111111111,\"#46039f\"],[0.2222222222222222,\"#7201a8\"],[0.3333333333333333,\"#9c179e\"],[0.4444444444444444,\"#bd3786\"],[0.5555555555555556,\"#d8576b\"],[0.6666666666666666,\"#ed7953\"],[0.7777777777777778,\"#fb9f3a\"],[0.8888888888888888,\"#fdca26\"],[1.0,\"#f0f921\"]],\"type\":\"surface\"}],\"table\":[{\"cells\":{\"fill\":{\"color\":\"#EBF0F8\"},\"line\":{\"color\":\"white\"}},\"header\":{\"fill\":{\"color\":\"#C8D4E3\"},\"line\":{\"color\":\"white\"}},\"type\":\"table\"}]},\"layout\":{\"annotationdefaults\":{\"arrowcolor\":\"#2a3f5f\",\"arrowhead\":0,\"arrowwidth\":1},\"autotypenumbers\":\"strict\",\"coloraxis\":{\"colorbar\":{\"outlinewidth\":0,\"ticks\":\"\"}},\"colorscale\":{\"diverging\":[[0,\"#8e0152\"],[0.1,\"#c51b7d\"],[0.2,\"#de77ae\"],[0.3,\"#f1b6da\"],[0.4,\"#fde0ef\"],[0.5,\"#f7f7f7\"],[0.6,\"#e6f5d0\"],[0.7,\"#b8e186\"],[0.8,\"#7fbc41\"],[0.9,\"#4d9221\"],[1,\"#276419\"]],\"sequential\":[[0.0,\"#0d0887\"],[0.1111111111111111,\"#46039f\"],[0.2222222222222222,\"#7201a8\"],[0.3333333333333333,\"#9c179e\"],[0.4444444444444444,\"#bd3786\"],[0.5555555555555556,\"#d8576b\"],[0.6666666666666666,\"#ed7953\"],[0.7777777777777778,\"#fb9f3a\"],[0.8888888888888888,\"#fdca26\"],[1.0,\"#f0f921\"]],\"sequentialminus\":[[0.0,\"#0d0887\"],[0.1111111111111111,\"#46039f\"],[0.2222222222222222,\"#7201a8\"],[0.3333333333333333,\"#9c179e\"],[0.4444444444444444,\"#bd3786\"],[0.5555555555555556,\"#d8576b\"],[0.6666666666666666,\"#ed7953\"],[0.7777777777777778,\"#fb9f3a\"],[0.8888888888888888,\"#fdca26\"],[1.0,\"#f0f921\"]]},\"colorway\":[\"#636efa\",\"#EF553B\",\"#00cc96\",\"#ab63fa\",\"#FFA15A\",\"#19d3f3\",\"#FF6692\",\"#B6E880\",\"#FF97FF\",\"#FECB52\"],\"font\":{\"color\":\"#2a3f5f\"},\"geo\":{\"bgcolor\":\"white\",\"lakecolor\":\"white\",\"landcolor\":\"#E5ECF6\",\"showlakes\":true,\"showland\":true,\"subunitcolor\":\"white\"},\"hoverlabel\":{\"align\":\"left\"},\"hovermode\":\"closest\",\"mapbox\":{\"style\":\"light\"},\"paper_bgcolor\":\"white\",\"plot_bgcolor\":\"#E5ECF6\",\"polar\":{\"angularaxis\":{\"gridcolor\":\"white\",\"linecolor\":\"white\",\"ticks\":\"\"},\"bgcolor\":\"#E5ECF6\",\"radialaxis\":{\"gridcolor\":\"white\",\"linecolor\":\"white\",\"ticks\":\"\"}},\"scene\":{\"xaxis\":{\"backgroundcolor\":\"#E5ECF6\",\"gridcolor\":\"white\",\"gridwidth\":2,\"linecolor\":\"white\",\"showbackground\":true,\"ticks\":\"\",\"zerolinecolor\":\"white\"},\"yaxis\":{\"backgroundcolor\":\"#E5ECF6\",\"gridcolor\":\"white\",\"gridwidth\":2,\"linecolor\":\"white\",\"showbackground\":true,\"ticks\":\"\",\"zerolinecolor\":\"white\"},\"zaxis\":{\"backgroundcolor\":\"#E5ECF6\",\"gridcolor\":\"white\",\"gridwidth\":2,\"linecolor\":\"white\",\"showbackground\":true,\"ticks\":\"\",\"zerolinecolor\":\"white\"}},\"shapedefaults\":{\"line\":{\"color\":\"#2a3f5f\"}},\"ternary\":{\"aaxis\":{\"gridcolor\":\"white\",\"linecolor\":\"white\",\"ticks\":\"\"},\"baxis\":{\"gridcolor\":\"white\",\"linecolor\":\"white\",\"ticks\":\"\"},\"bgcolor\":\"#E5ECF6\",\"caxis\":{\"gridcolor\":\"white\",\"linecolor\":\"white\",\"ticks\":\"\"}},\"title\":{\"x\":0.05},\"xaxis\":{\"automargin\":true,\"gridcolor\":\"white\",\"linecolor\":\"white\",\"ticks\":\"\",\"title\":{\"standoff\":15},\"zerolinecolor\":\"white\",\"zerolinewidth\":2},\"yaxis\":{\"automargin\":true,\"gridcolor\":\"white\",\"linecolor\":\"white\",\"ticks\":\"\",\"title\":{\"standoff\":15},\"zerolinecolor\":\"white\",\"zerolinewidth\":2}}},\"title\":{\"text\":\"Lista do Fundo Monet\\u00e1rio Internacional\",\"x\":0.5,\"xanchor\":\"center\",\"y\":0.97,\"yanchor\":\"top\"},\"xaxis\":{\"anchor\":\"y\",\"domain\":[0.0,1.0]},\"yaxis\":{\"anchor\":\"x\",\"domain\":[0.0,1.0]}},                        {\"responsive\": true}                    ).then(function(){\n",
       "                            \n",
       "var gd = document.getElementById('126284f8-cf6e-4557-a5d5-bc5dc0639246');\n",
       "var x = new MutationObserver(function (mutations, observer) {{\n",
       "        var display = window.getComputedStyle(gd).display;\n",
       "        if (!display || display === 'none') {{\n",
       "            console.log([gd, 'removed!']);\n",
       "            Plotly.purge(gd);\n",
       "            observer.disconnect();\n",
       "        }}\n",
       "}});\n",
       "\n",
       "// Listen for the removal of the full notebook cells\n",
       "var notebookContainer = gd.closest('#notebook-container');\n",
       "if (notebookContainer) {{\n",
       "    x.observe(notebookContainer, {childList: true});\n",
       "}}\n",
       "\n",
       "// Listen for the clearing of the current output cell\n",
       "var outputEl = gd.closest('.output');\n",
       "if (outputEl) {{\n",
       "    x.observe(outputEl, {childList: true});\n",
       "}}\n",
       "\n",
       "                        })                };                });            </script>        </div>"
      ]
     },
     "metadata": {},
     "output_type": "display_data"
    }
   ],
   "source": [
    "# Iniciar a figura do gráfico\n",
    "\n",
    "# Titulos\n",
    "Titulos = [ 'Top 10 PIBs Mundiais' ]\n",
    "Rodape = 'Análise por: @Odemir Depieri Jr'\n",
    "\n",
    "# Initialize figure with subplots\n",
    "Figura = make_subplots(\n",
    "    rows=1, cols=1, subplot_titles=(Titulos) )\n",
    "\n",
    "# Titulo e Tamanho\n",
    "Figura.update_layout( \n",
    "    title_text='Lista do Fundo Monetário Internacional', \n",
    "    height=500,\n",
    "    #template='plotly_dark',\n",
    "    showlegend=False,\n",
    "    title={\n",
    "        'y':0.97,'x':0.5,\n",
    "        'xanchor': 'center','yanchor': 'top'},\n",
    "    )\n",
    "\n",
    "# Grafico 1\n",
    "Figura.add_trace(\n",
    "    go.Bar( \n",
    "        x=Filtro['País'].head(10), \n",
    "        y=Filtro['PIB (Trilhões de US$)'].head(10),\n",
    "        text=Filtro['PIB (Trilhões de US$)'].head(10),\n",
    "        textposition='auto',\n",
    "    ), \n",
    "        row=1, col=1 )\n",
    "\n",
    "# Ajustando o numero\n",
    "Figura.update_traces( texttemplate='%{text:.3s}', textposition='outside')\n",
    "\n",
    "# Incluindo as bandeiras\n",
    "Posicao_Esquerda = 0\n",
    "\n",
    "# Loop nas bandeiiras\n",
    "for Loop in Links[0:10]:\n",
    "    \n",
    "    # Carregando o link da imagem\n",
    "    Link_Imagenm = requests.get( Loop )\n",
    "    \n",
    "    # Convertendo para imagem\n",
    "    Bandeira = Image.open( BytesIO(Link_Imagenm.content) )\n",
    "\n",
    "    # Imagem\n",
    "    Figura.add_layout_image(\n",
    "      dict(\n",
    "        source=Bandeira,\n",
    "        x=0.062 + Posicao_Esquerda, \n",
    "        y= -0.15,\n",
    "        sizex=0.05, sizey=0.05,\n",
    "        xanchor='right', yanchor='bottom'\n",
    "      )\n",
    "    )\n",
    "    \n",
    "    # Ajustando a imagem\n",
    "    Posicao_Esquerda += 0.1\n",
    "\n",
    "# Plot\n",
    "Figura.show()"
   ]
  },
  {
   "cell_type": "code",
   "execution_count": 61,
   "id": "d0d7d0e3",
   "metadata": {},
   "outputs": [],
   "source": [
    "# Importando a biblioteca\n",
    "import win32com.client as win32\n",
    "\n",
    "# Instanciado o aplitivo na máquina\n",
    "Outlook = win32.Dispatch('outlook.application')\n",
    "\n",
    "# Criando o e-mail\n",
    "Email = Outlook.CreateItem(0)\n",
    "\n",
    "# Destino\n",
    "Email.To = 'data.vikingx@gmail.com; data.vikingx@gmail.com; data.vikingx@gmail.com; data.vikingx@gmail.com'\n",
    "# Copia\n",
    "Email.CC = 'data.vikingx@gmail.com'\n",
    "# Copia oculta\n",
    "Email.BCC = ''\n",
    "\n",
    "# Assunto\n",
    "Email.Subject = 'E-mail com Python.'\n",
    "\n",
    "# Corpo do e-mail\n",
    "Email.Body = 'Message body'\n",
    "\n",
    "Local_Imagem = r'C:\\Users\\datav\\Downloads\\Indicador.png'\n",
    "Email.Attachments.Add( Local_Imagem )\n",
    "\n",
    "Codigo_HTML = '''\n",
    "<h3> Relátorio PIBs mundiais </h3>\n",
    "<p> Segue análise dos valores em 2020 </p>\n",
    "<img src=\"Indicador.png\" width=\"50%\" alt=\"Indicador\"/>\n",
    "<br>\n",
    "<br>\n",
    "<p> \n",
    "    Qualquer dúvida estou a disposição <br> \n",
    "    <i> Odemir Depieri Jr </i>\n",
    "</p>\n",
    "'''\n",
    "\n",
    "# Aplicando HTML no seu e-mail\n",
    "Email.HTMLBody = Codigo_HTML\n",
    "Email.Display(False)\n",
    "\n",
    "# Enviar e-mail\n",
    "#Email.Send()      "
   ]
  },
  {
   "cell_type": "code",
   "execution_count": null,
   "id": "e1fb3cb9",
   "metadata": {},
   "outputs": [],
   "source": []
  }
 ],
 "metadata": {
  "kernelspec": {
   "display_name": "Python 3",
   "language": "python",
   "name": "python3"
  },
  "language_info": {
   "codemirror_mode": {
    "name": "ipython",
    "version": 3
   },
   "file_extension": ".py",
   "mimetype": "text/x-python",
   "name": "python",
   "nbconvert_exporter": "python",
   "pygments_lexer": "ipython3",
   "version": "3.8.8"
  }
 },
 "nbformat": 4,
 "nbformat_minor": 5
}
